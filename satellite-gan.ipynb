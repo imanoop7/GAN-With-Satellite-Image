{
 "cells": [
  {
   "cell_type": "code",
   "execution_count": 14,
   "metadata": {},
   "outputs": [
    {
     "name": "stdout",
     "output_type": "stream",
     "text": [
      "Defaulting to user installation because normal site-packages is not writeable\n",
      "Collecting noise\n",
      "  Using cached noise-1.2.2.zip (132 kB)\n",
      "  Preparing metadata (setup.py): started\n",
      "  Preparing metadata (setup.py): finished with status 'done'\n",
      "Building wheels for collected packages: noise\n",
      "  Building wheel for noise (setup.py): started\n",
      "  Building wheel for noise (setup.py): finished with status 'error'\n",
      "  Running setup.py clean for noise\n",
      "Failed to build noise\n",
      "Note: you may need to restart the kernel to use updated packages.\n"
     ]
    },
    {
     "name": "stderr",
     "output_type": "stream",
     "text": [
      "  error: subprocess-exited-with-error\n",
      "  \n",
      "  × python setup.py bdist_wheel did not run successfully.\n",
      "  │ exit code: 1\n",
      "  ╰─> [14 lines of output]\n",
      "      running bdist_wheel\n",
      "      running build\n",
      "      running build_py\n",
      "      creating build\n",
      "      creating build\\lib.win-amd64-cpython-311\n",
      "      creating build\\lib.win-amd64-cpython-311\\noise\n",
      "      copying perlin.py -> build\\lib.win-amd64-cpython-311\\noise\n",
      "      copying shader.py -> build\\lib.win-amd64-cpython-311\\noise\n",
      "      copying shader_noise.py -> build\\lib.win-amd64-cpython-311\\noise\n",
      "      copying test.py -> build\\lib.win-amd64-cpython-311\\noise\n",
      "      copying __init__.py -> build\\lib.win-amd64-cpython-311\\noise\n",
      "      running build_ext\n",
      "      building 'noise._simplex' extension\n",
      "      error: Microsoft Visual C++ 14.0 or greater is required. Get it with \"Microsoft C++ Build Tools\": https://visualstudio.microsoft.com/visual-cpp-build-tools/\n",
      "      [end of output]\n",
      "  \n",
      "  note: This error originates from a subprocess, and is likely not a problem with pip.\n",
      "  ERROR: Failed building wheel for noise\n",
      "ERROR: Could not build wheels for noise, which is required to install pyproject.toml-based projects\n"
     ]
    }
   ],
   "source": [
    "pip install noise"
   ]
  },
  {
   "cell_type": "code",
   "execution_count": 1,
   "metadata": {},
   "outputs": [],
   "source": [
    "import numpy as np \n",
    "import pandas as pd\n",
    "import random\n",
    "import os\n",
    "from os import listdir,mkdir, rename\n",
    "from os.path import join, exists\n",
    "import shutil\n",
    "import datetime\n",
    "import matplotlib.pyplot as plt\n",
    "from highlight_text import ax_text, fig_text\n",
    "from PIL import Image\n",
    "import warnings\n",
    "warnings.filterwarnings('ignore')"
   ]
  },
  {
   "cell_type": "code",
   "execution_count": 2,
   "metadata": {},
   "outputs": [],
   "source": [
    "os.makedirs(\"EuroSat\",exist_ok=True)\n",
    "classes = listdir(\"./EuroSat\")\n",
    "path_target = \"./EuroSat/all_targets\"\n",
    "path_input = \"./EuroSat/all_inputs\"\n"
   ]
  },
  {
   "cell_type": "code",
   "execution_count": 4,
   "metadata": {},
   "outputs": [],
   "source": [
    "# mkdir(path_target)\n",
    "# mkdir(path_input)\n",
    "\n",
    "k=1\n",
    "for kind in classes:\n",
    "    path =join('./EuroSat', str(kind))\n",
    "    for i,f in enumerate(listdir(path)):\n",
    "        shutil.copyfile(join(path,f),\n",
    "                        join(path_target,f))\n",
    "        rename(join(path_target,f),join(path_target,f\"{k}.jpg\"))\n",
    "        k+=1"
   ]
  },
  {
   "cell_type": "code",
   "execution_count": 2,
   "metadata": {},
   "outputs": [
    {
     "ename": "ModuleNotFoundError",
     "evalue": "No module named 'noise'",
     "output_type": "error",
     "traceback": [
      "\u001b[1;31m---------------------------------------------------------------------------\u001b[0m",
      "\u001b[1;31mModuleNotFoundError\u001b[0m                       Traceback (most recent call last)",
      "Cell \u001b[1;32mIn[2], line 1\u001b[0m\n\u001b[1;32m----> 1\u001b[0m \u001b[38;5;28;01mfrom\u001b[39;00m \u001b[38;5;21;01mnoise\u001b[39;00m \u001b[38;5;28;01mimport\u001b[39;00m pnoise2\n\u001b[0;32m      2\u001b[0m \u001b[38;5;28;01mdef\u001b[39;00m \u001b[38;5;21mgenerate_perlin_noise\u001b[39m(width, height, scale, octaves, persistence, lacunarity):\n\u001b[0;32m      3\u001b[0m     noise \u001b[38;5;241m=\u001b[39m np\u001b[38;5;241m.\u001b[39mzeros((height, width))\n",
      "\u001b[1;31mModuleNotFoundError\u001b[0m: No module named 'noise'"
     ]
    }
   ],
   "source": [
    "from noise import pnoise2\n",
    "def generate_perlin_noise(width, height, scale, octaves, persistence, lacunarity):\n",
    "    noise = np.zeros((height, width))\n",
    "    for i in range(height):\n",
    "        for j in range(width):\n",
    "            noise[i][j]= pnoise2(\n",
    "                i/scale,\n",
    "                j/scale,\n",
    "                octaves=octaves,\n",
    "                persistence=persistence,\n",
    "                repeatx= width,\n",
    "                repeaty= height,\n",
    "                base=0\n",
    "            )\n",
    "    return noise\n",
    "\n",
    "        "
   ]
  },
  {
   "cell_type": "code",
   "execution_count": null,
   "metadata": {},
   "outputs": [],
   "source": []
  }
 ],
 "metadata": {
  "kernelspec": {
   "display_name": "base",
   "language": "python",
   "name": "python3"
  },
  "language_info": {
   "codemirror_mode": {
    "name": "ipython",
    "version": 3
   },
   "file_extension": ".py",
   "mimetype": "text/x-python",
   "name": "python",
   "nbconvert_exporter": "python",
   "pygments_lexer": "ipython3",
   "version": "3.11.5"
  }
 },
 "nbformat": 4,
 "nbformat_minor": 2
}
