{
 "cells": [
  {
   "cell_type": "code",
   "execution_count": 14,
   "metadata": {},
   "outputs": [
    {
     "name": "stdout",
     "output_type": "stream",
     "text": [
      "Defaulting to user installation because normal site-packages is not writeable\n",
      "Collecting noise\n",
      "  Using cached noise-1.2.2.zip (132 kB)\n",
      "  Preparing metadata (setup.py): started\n",
      "  Preparing metadata (setup.py): finished with status 'done'\n",
      "Building wheels for collected packages: noise\n",
      "  Building wheel for noise (setup.py): started\n",
      "  Building wheel for noise (setup.py): finished with status 'error'\n",
      "  Running setup.py clean for noise\n",
      "Failed to build noise\n",
      "Note: you may need to restart the kernel to use updated packages.\n"
     ]
    },
    {
     "name": "stderr",
     "output_type": "stream",
     "text": [
      "  error: subprocess-exited-with-error\n",
      "  \n",
      "  × python setup.py bdist_wheel did not run successfully.\n",
      "  │ exit code: 1\n",
      "  ╰─> [14 lines of output]\n",
      "      running bdist_wheel\n",
      "      running build\n",
      "      running build_py\n",
      "      creating build\n",
      "      creating build\\lib.win-amd64-cpython-311\n",
      "      creating build\\lib.win-amd64-cpython-311\\noise\n",
      "      copying perlin.py -> build\\lib.win-amd64-cpython-311\\noise\n",
      "      copying shader.py -> build\\lib.win-amd64-cpython-311\\noise\n",
      "      copying shader_noise.py -> build\\lib.win-amd64-cpython-311\\noise\n",
      "      copying test.py -> build\\lib.win-amd64-cpython-311\\noise\n",
      "      copying __init__.py -> build\\lib.win-amd64-cpython-311\\noise\n",
      "      running build_ext\n",
      "      building 'noise._simplex' extension\n",
      "      error: Microsoft Visual C++ 14.0 or greater is required. Get it with \"Microsoft C++ Build Tools\": https://visualstudio.microsoft.com/visual-cpp-build-tools/\n",
      "      [end of output]\n",
      "  \n",
      "  note: This error originates from a subprocess, and is likely not a problem with pip.\n",
      "  ERROR: Failed building wheel for noise\n",
      "ERROR: Could not build wheels for noise, which is required to install pyproject.toml-based projects\n"
     ]
    }
   ],
   "source": [
    "pip install noise"
   ]
  },
  {
   "cell_type": "code",
   "execution_count": 1,
   "metadata": {},
   "outputs": [],
   "source": [
    "import numpy as np \n",
    "import pandas as pd\n",
    "import random\n",
    "import os\n",
    "from os import listdir,mkdir, rename\n",
    "from os.path import join, exists\n",
    "import shutil\n",
    "import datetime\n",
    "import matplotlib.pyplot as plt\n",
    "from highlight_text import ax_text, fig_text\n",
    "from PIL import Image\n",
    "import warnings\n",
    "warnings.filterwarnings('ignore')"
   ]
  },
  {
   "cell_type": "code",
   "execution_count": 2,
   "metadata": {},
   "outputs": [],
   "source": [
    "os.makedirs(\"EuroSat\",exist_ok=True)\n",
    "classes = listdir(\"./EuroSat\")\n",
    "path_target = \"./EuroSat/all_targets\"\n",
    "path_input = \"./EuroSat/all_inputs\"\n"
   ]
  },
  {
   "cell_type": "code",
   "execution_count": 4,
   "metadata": {},
   "outputs": [],
   "source": [
    "# mkdir(path_target)\n",
    "# mkdir(path_input)\n",
    "\n",
    "k=1\n",
    "for kind in classes:\n",
    "    path =join('./EuroSat', str(kind))\n",
    "    for i,f in enumerate(listdir(path)):\n",
    "        shutil.copyfile(join(path,f),\n",
    "                        join(path_target,f))\n",
    "        rename(join(path_target,f),join(path_target,f\"{k}.jpg\"))\n",
    "        k+=1"
   ]
  },
  {
   "cell_type": "code",
   "execution_count": 5,
   "metadata": {},
   "outputs": [
    {
     "ename": "SyntaxError",
     "evalue": "incomplete input (475826475.py, line 2)",
     "output_type": "error",
     "traceback": [
      "\u001b[1;36m  Cell \u001b[1;32mIn[5], line 2\u001b[1;36m\u001b[0m\n\u001b[1;33m    def generate_perlin_noise(width, height, scale, octaves, persistence, lacunarity):\u001b[0m\n\u001b[1;37m                                                                                      ^\u001b[0m\n\u001b[1;31mSyntaxError\u001b[0m\u001b[1;31m:\u001b[0m incomplete input\n"
     ]
    }
   ],
   "source": [
    "from noise import pnoise2\n",
    "def generate_perlin_noise(width, height, scale, octaves, persistence, lacunarity):\n",
    "    noise = np.zeros((height, width))\n",
    "    for i in range(height):\n",
    "        "
   ]
  },
  {
   "cell_type": "code",
   "execution_count": null,
   "metadata": {},
   "outputs": [],
   "source": []
  }
 ],
 "metadata": {
  "kernelspec": {
   "display_name": "base",
   "language": "python",
   "name": "python3"
  },
  "language_info": {
   "codemirror_mode": {
    "name": "ipython",
    "version": 3
   },
   "file_extension": ".py",
   "mimetype": "text/x-python",
   "name": "python",
   "nbconvert_exporter": "python",
   "pygments_lexer": "ipython3",
   "version": "3.11.5"
  }
 },
 "nbformat": 4,
 "nbformat_minor": 2
}
